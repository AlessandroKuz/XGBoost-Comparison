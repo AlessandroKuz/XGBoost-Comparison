{
 "cells": [
  {
   "cell_type": "markdown",
   "metadata": {},
   "source": [
    "# XGBoost example - Higgs boson "
   ]
  },
  {
   "cell_type": "markdown",
   "metadata": {},
   "source": [
    "In this notebook we will use [XGBoost](https://xgboost.readthedocs.io/en/latest/) to classify Higgs boson signal from background events and compare the performance of this model against similar ones. The dataset is taken from [Kaggle Higgs Boson Challenge](https://www.kaggle.com/c/higgs-boson/) from the [HiggsML challenge](https://higgsml.lal.in2p3.fr/) and is a modified version of the [HIGGS dataset](https://archive.ics.uci.edu/ml/datasets/HIGGS) from the UCI repository. The dataset consists of 250'000 events."
   ]
  },
  {
   "cell_type": "markdown",
   "metadata": {},
   "source": [
    "In this example it'll be clear that the XGBoost model is really fast and efficient, since it can train on the full dataset in a few seconds."
   ]
  },
  {
   "cell_type": "code",
   "execution_count": 1,
   "metadata": {},
   "outputs": [],
   "source": [
    "# First of all lets import the libraries we need\n",
    "import numpy as np\n",
    "import pandas as pd\n",
    "import seaborn as sns\n",
    "import matplotlib.pyplot as plt\n",
    "\n",
    "from sklearn.metrics import accuracy_score, confusion_matrix, roc_auc_score\n",
    "from sklearn.model_selection import train_test_split, GridSearchCV\n",
    "from sklearn.preprocessing import StandardScaler, MinMaxScaler\n",
    "from sklearn.tree import DecisionTreeClassifier\n",
    "from sklearn.ensemble import RandomForestClassifier\n",
    "from sklearn.ensemble import GradientBoostingClassifier\n",
    "from sklearn.ensemble import AdaBoostClassifier\n",
    "from xgboost.sklearn import XGBClassifier\n",
    "import xgboost as xgb"
   ]
  },
  {
   "cell_type": "code",
   "execution_count": null,
   "metadata": {},
   "outputs": [],
   "source": [
    "# Now lets load the data\n",
    "df = pd.read_csv('data/higgs-boson/training.zip', compression='zip')\n",
    "\n",
    "# Lets see what we have\n",
    "df.head()"
   ]
  },
  {
   "cell_type": "code",
   "execution_count": null,
   "metadata": {},
   "outputs": [],
   "source": [
    "df.columns"
   ]
  },
  {
   "cell_type": "markdown",
   "metadata": {},
   "source": [
    "Some details to get started:\n",
    "\n",
    "- all variables are floating point, except PRI_jet_num which is integer\n",
    "- variables prefixed with PRI (for PRImitives) are “raw” quantities about the bunch collision as measured by the detector.\n",
    "- variables prefixed with DER (for DERived) are quantities computed from the primitive features, which were selected by  the physicists of ATLAS\n",
    "- it can happen that for some entries some variables are meaningless or cannot be computed; in this case, their value is −999.0, which is outside the normal range of all variables"
   ]
  },
  {
   "cell_type": "code",
   "execution_count": null,
   "metadata": {},
   "outputs": [],
   "source": [
    "# Lets see the shape of the data\n",
    "print(df.shape)\n",
    "\n",
    "# Lets see the data info\n",
    "df.info()"
   ]
  },
  {
   "cell_type": "code",
   "execution_count": null,
   "metadata": {},
   "outputs": [],
   "source": [
    "# mapping \"-999.0\" to NaN\n",
    "for col in df.columns:\n",
    "    df[col] = df[col].apply(lambda x: np.nan if x == -999.0 else x)"
   ]
  },
  {
   "cell_type": "code",
   "execution_count": null,
   "metadata": {},
   "outputs": [],
   "source": [
    "df.isnull().sum()"
   ]
  },
  {
   "cell_type": "code",
   "execution_count": null,
   "metadata": {},
   "outputs": [],
   "source": [
    "df.describe()"
   ]
  },
  {
   "cell_type": "code",
   "execution_count": null,
   "metadata": {},
   "outputs": [],
   "source": [
    "df['Label'] = (df['Label'] == 's').apply(float)\n",
    "df = df.iloc[:, 1:]"
   ]
  },
  {
   "cell_type": "code",
   "execution_count": null,
   "metadata": {},
   "outputs": [],
   "source": [
    "# Correlation matrix\n",
    "corr = df.corr()\n",
    "plt.figure(figsize=(10, 10))\n",
    "sns.heatmap(corr, vmax=1, square=True)\n",
    "plt.show()"
   ]
  },
  {
   "cell_type": "code",
   "execution_count": null,
   "metadata": {},
   "outputs": [],
   "source": [
    "# displaying the labels and their percentages\n",
    "print(df['Label'].value_counts())\n",
    "print('-'*35)\n",
    "print(df['Label'].value_counts(normalize=True))"
   ]
  },
  {
   "cell_type": "code",
   "execution_count": null,
   "metadata": {},
   "outputs": [],
   "source": [
    "df.iloc[:, -2:].corr()\n",
    "plt.figure(figsize=(5, 4))\n",
    "sns.heatmap(df.iloc[:, -2:].corr(), annot=True, fmt=\".2f\")\n",
    "plt.show()"
   ]
  },
  {
   "cell_type": "code",
   "execution_count": null,
   "metadata": {},
   "outputs": [],
   "source": [
    "X = df.drop(['Weight', 'Label'], axis=1)\n",
    "y = df['Label']"
   ]
  },
  {
   "cell_type": "code",
   "execution_count": null,
   "metadata": {},
   "outputs": [],
   "source": [
    "X_train, X_test, y_train, y_test = train_test_split(X, y, test_size=0.2, random_state=21)"
   ]
  },
  {
   "cell_type": "markdown",
   "metadata": {},
   "source": [
    "## Dataset preparation"
   ]
  },
  {
   "cell_type": "code",
   "execution_count": null,
   "metadata": {},
   "outputs": [],
   "source": [
    "# Since normally model don't work well with missing values, we will replace them with the mean of the column\n",
    "X_train_imputed = X_train.fillna(X_train.mean())\n",
    "X_test_imputed = X_test.fillna(X_test.mean())\n",
    "# But we will also create a copy of the data without the imputation\n",
    "X_train_no_imputed = X_train.copy()\n",
    "\n",
    "# We then scale the data\n",
    "scaler = StandardScaler()\n",
    "X_train_imputed_scaled = scaler.fit_transform(X_train_imputed)\n",
    "X_test_imputed_scaled = scaler.transform(X_test_imputed)\n",
    "\n",
    "X_train_no_imputed_scaled = scaler.fit_transform(X_train_no_imputed)\n",
    "X_test_no_imputed_scaled = scaler.transform(X_test_imputed)"
   ]
  },
  {
   "cell_type": "markdown",
   "metadata": {},
   "source": [
    "## Decision tree"
   ]
  },
  {
   "cell_type": "code",
   "execution_count": null,
   "metadata": {},
   "outputs": [],
   "source": [
    "# simple decision tree classifier\n",
    "dt_clf = DecisionTreeClassifier(max_depth=5, random_state=21)\n",
    "dt_clf.fit(X_train_imputed_scaled, y_train)\n",
    "y_pred = dt_clf.predict(X_test_imputed_scaled)\n",
    "print(\"Accuracy score using Decision Tree Classifier: \", accuracy_score(y_test, y_pred))\n",
    "print(\"ROC AUC score using Decision Tree Classifier: \", roc_auc_score(y_test, y_pred))"
   ]
  },
  {
   "cell_type": "markdown",
   "metadata": {},
   "source": [
    "## Random forest"
   ]
  },
  {
   "cell_type": "code",
   "execution_count": null,
   "metadata": {},
   "outputs": [],
   "source": [
    "rf_clf = RandomForestClassifier(n_estimators=200, max_depth=5, random_state=21)\n",
    "rf_clf.fit(X_train_imputed_scaled, y_train)\n",
    "y_pred = rf_clf.predict(X_test_imputed_scaled)\n",
    "print(\"Accuracy score using Random Forest Classifier: \", accuracy_score(y_test, y_pred))\n",
    "print(\"ROC AUC score using Random Forest Classifier: \", roc_auc_score(y_test, y_pred))"
   ]
  },
  {
   "cell_type": "markdown",
   "metadata": {},
   "source": [
    "## AdaBoost"
   ]
  },
  {
   "cell_type": "code",
   "execution_count": null,
   "metadata": {},
   "outputs": [],
   "source": [
    "# # imprting adaboost classifier\n",
    "# from sklearn.ensemble import AdaBoostClassifier\n",
    "# # now lets use the AdaBoost Classifier\n",
    "# ada_clf = AdaBoostClassifier(n_estimators=200, random_state=21)\n",
    "# ada_clf.fit(X_train, y_train)\n",
    "# y_pred = ada_clf.predict(X_test)\n",
    "# print(\"Accuracy score using AdaBoost Classifier: \", accuracy_score(y_test, y_pred))\n",
    "# print(\"ROC AUC score using AdaBoost Classifier: \", roc_auc_score(y_test, y_pred))"
   ]
  },
  {
   "cell_type": "code",
   "execution_count": null,
   "metadata": {},
   "outputs": [],
   "source": [
    "ada_clf = AdaBoostClassifier(n_estimators=200, random_state=21)\n",
    "ada_clf.fit(X_train_imputed_scaled, y_train)\n",
    "y_pred = ada_clf.predict(X_test_imputed_scaled)\n",
    "print(\"Accuracy score using AdaBoost Classifier: \", accuracy_score(y_test, y_pred))\n",
    "print(\"ROC AUC score using AdaBoost Classifier: \", roc_auc_score(y_test, y_pred))"
   ]
  },
  {
   "cell_type": "markdown",
   "metadata": {},
   "source": [
    "## XGBoost"
   ]
  },
  {
   "cell_type": "code",
   "execution_count": null,
   "metadata": {},
   "outputs": [],
   "source": [
    "# # Using XGBoost Classifier\n",
    "# xgb_clf = xgb.XGBClassifier(n_estimators=200, \n",
    "#                             max_depth=5,\n",
    "#                             learning_rate=0.1,\n",
    "#                             subsample=0.5,\n",
    "#                             # colsample_bytree=0.5,\n",
    "#                             gamma=5,\n",
    "#                             n_jobs=-1, random_state=21)\n",
    "# xgb_clf.fit(X_train, y_train)\n",
    "# y_pred = xgb_clf.predict(X_test)\n",
    "# print(\"Accuracy score using XGBoost Classifier: \", accuracy_score(y_test, y_pred))\n",
    "# print(\"ROC AUC score using XGBoost Classifier: \", roc_auc_score(y_test, y_pred))"
   ]
  },
  {
   "cell_type": "code",
   "execution_count": null,
   "metadata": {},
   "outputs": [],
   "source": [
    "xgb_clf = XGBClassifier(n_estimators=200, max_depth=5, random_state=21)\n",
    "xgb_clf.fit(X_train_imputed_scaled, y_train)\n",
    "y_pred = xgb_clf.predict(X_test_imputed_scaled)\n",
    "print(\"Imputed Accuracy score using XGBoost Classifier: \", accuracy_score(y_test, y_pred))\n",
    "print(\"Imputed ROC AUC score using XGBoost Classifier: \", roc_auc_score(y_test, y_pred))\n",
    "\n",
    "xgb_clf2 = XGBClassifier(n_estimators=200, max_depth=5, random_state=21)\n",
    "xgb_clf2.fit(X_train_no_imputed_scaled, y_train)\n",
    "y_pred = xgb_clf2.predict(X_test_no_imputed_scaled)\n",
    "print(\"Not Imputed Accuracy score using XGBoost Classifier: \", accuracy_score(y_test, y_pred))\n",
    "print(\"Not Imputed ROC AUC score using XGBoost Classifier: \", roc_auc_score(y_test, y_pred))"
   ]
  },
  {
   "cell_type": "code",
   "execution_count": null,
   "metadata": {},
   "outputs": [],
   "source": [
    "params = {'objective': 'binary:logistic', 'max_depth': 5, 'random_state':21}\n",
    "xgb_dmatrix_imputed = xgb.DMatrix(data=X_train_imputed_scaled, label=y_train)\n",
    "xgb_dmatrix_imputed_test = xgb.DMatrix(data=X_test_imputed_scaled, label=y_test)\n",
    "xgb_clf3 = xgb.train(params=params, dtrain=xgb_dmatrix_imputed, num_boost_round=200)\n",
    "xgb_clf3_pred = xgb_clf3.predict(xgb_dmatrix_imputed_test)\n",
    "print(\"Imputed Accuracy score using XGBoost Classifier: \", accuracy_score(y_test, xgb_clf3_pred.round()))\n",
    "print(\"Imputed ROC AUC score using XGBoost Classifier: \", roc_auc_score(y_test, xgb_clf3_pred))\n",
    "\n",
    "xgb_dmatrix_no_imputed = xgb.DMatrix(data=X_train_no_imputed_scaled, label=y_train)\n",
    "xgb_dmatrix_no_imputed_test = xgb.DMatrix(data=X_test_no_imputed_scaled, label=y_test)\n",
    "xgb_clf4 = xgb.train(params=params, dtrain=xgb_dmatrix_no_imputed, num_boost_round=200)\n",
    "xgb_clf4_pred = xgb_clf4.predict(xgb_dmatrix_no_imputed_test)\n",
    "print(\"Not Imputed Accuracy score using XGBoost Classifier: \", accuracy_score(y_test, xgb_clf4_pred.round()))\n",
    "print(\"Not Imputed ROC AUC score using XGBoost Classifier: \", roc_auc_score(y_test, xgb_clf4_pred))"
   ]
  },
  {
   "cell_type": "markdown",
   "metadata": {},
   "source": [
    "## LightGBM"
   ]
  },
  {
   "cell_type": "code",
   "execution_count": null,
   "metadata": {},
   "outputs": [],
   "source": [
    "# importing lightgbm\n",
    "import lightgbm as lgb\n",
    "\n",
    "# creating the dataset\n",
    "lgb_train = lgb.Dataset(data=X_train_imputed_scaled, label=y_train)\n",
    "lgb_test = lgb.Dataset(data=X_test_imputed_scaled, label=y_test)\n",
    "\n",
    "# defining the parameters\n",
    "lgb_params = {'objective': 'binary', 'random_state': 21, 'metric': 'auc'}\n",
    "\n",
    "# training the model\n",
    "lgb_clf = lgb.train(params=lgb_params, train_set=lgb_train, num_boost_round=200)\n",
    "\n",
    "# predicting on the test set\n",
    "lgb_clf_pred = lgb_clf.predict(X_test_imputed_scaled)\n",
    "\n",
    "# calculating the accuracy\n",
    "print(\"Accuracy score using LightGBM Classifier: \", accuracy_score(y_test, lgb_clf_pred.round()))\n",
    "print(\"ROC AUC score using LightGBM Classifier: \", roc_auc_score(y_test, lgb_clf_pred))"
   ]
  }
 ],
 "metadata": {
  "kernelspec": {
   "display_name": ".venv",
   "language": "python",
   "name": "python3"
  },
  "language_info": {
   "codemirror_mode": {
    "name": "ipython",
    "version": 3
   },
   "file_extension": ".py",
   "mimetype": "text/x-python",
   "name": "python",
   "nbconvert_exporter": "python",
   "pygments_lexer": "ipython3",
   "version": "3.11.3"
  }
 },
 "nbformat": 4,
 "nbformat_minor": 2
}
